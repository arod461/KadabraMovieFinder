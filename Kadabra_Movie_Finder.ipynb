{
 "cells": [
  {
   "cell_type": "code",
   "execution_count": 14,
   "metadata": {
    "collapsed": true,
    "editable": false,
    "jupyter": {
     "outputs_hidden": true
    },
    "slideshow": {
     "slide_type": "slide"
    },
    "tags": []
   },
   "outputs": [
    {
     "name": "stdout",
     "output_type": "stream",
     "text": [
      "Requirement already satisfied: ipywidgets in c:\\users\\storm\\appdata\\local\\programs\\python\\python313\\lib\\site-packages (8.1.5)\n",
      "Requirement already satisfied: comm>=0.1.3 in c:\\users\\storm\\appdata\\local\\programs\\python\\python313\\lib\\site-packages (from ipywidgets) (0.2.2)\n",
      "Requirement already satisfied: ipython>=6.1.0 in c:\\users\\storm\\appdata\\local\\programs\\python\\python313\\lib\\site-packages (from ipywidgets) (8.32.0)\n",
      "Requirement already satisfied: traitlets>=4.3.1 in c:\\users\\storm\\appdata\\local\\programs\\python\\python313\\lib\\site-packages (from ipywidgets) (5.14.3)\n",
      "Requirement already satisfied: widgetsnbextension~=4.0.12 in c:\\users\\storm\\appdata\\local\\programs\\python\\python313\\lib\\site-packages (from ipywidgets) (4.0.13)\n",
      "Requirement already satisfied: jupyterlab-widgets~=3.0.12 in c:\\users\\storm\\appdata\\local\\programs\\python\\python313\\lib\\site-packages (from ipywidgets) (3.0.13)\n",
      "Requirement already satisfied: colorama in c:\\users\\storm\\appdata\\local\\programs\\python\\python313\\lib\\site-packages (from ipython>=6.1.0->ipywidgets) (0.4.6)\n",
      "Requirement already satisfied: decorator in c:\\users\\storm\\appdata\\local\\programs\\python\\python313\\lib\\site-packages (from ipython>=6.1.0->ipywidgets) (5.2.1)\n",
      "Requirement already satisfied: jedi>=0.16 in c:\\users\\storm\\appdata\\local\\programs\\python\\python313\\lib\\site-packages (from ipython>=6.1.0->ipywidgets) (0.19.2)\n",
      "Requirement already satisfied: matplotlib-inline in c:\\users\\storm\\appdata\\local\\programs\\python\\python313\\lib\\site-packages (from ipython>=6.1.0->ipywidgets) (0.1.7)\n",
      "Requirement already satisfied: prompt_toolkit<3.1.0,>=3.0.41 in c:\\users\\storm\\appdata\\local\\programs\\python\\python313\\lib\\site-packages (from ipython>=6.1.0->ipywidgets) (3.0.50)\n",
      "Requirement already satisfied: pygments>=2.4.0 in c:\\users\\storm\\appdata\\local\\programs\\python\\python313\\lib\\site-packages (from ipython>=6.1.0->ipywidgets) (2.19.1)\n",
      "Requirement already satisfied: stack_data in c:\\users\\storm\\appdata\\local\\programs\\python\\python313\\lib\\site-packages (from ipython>=6.1.0->ipywidgets) (0.6.3)\n",
      "Requirement already satisfied: parso<0.9.0,>=0.8.4 in c:\\users\\storm\\appdata\\local\\programs\\python\\python313\\lib\\site-packages (from jedi>=0.16->ipython>=6.1.0->ipywidgets) (0.8.4)\n",
      "Requirement already satisfied: wcwidth in c:\\users\\storm\\appdata\\local\\programs\\python\\python313\\lib\\site-packages (from prompt_toolkit<3.1.0,>=3.0.41->ipython>=6.1.0->ipywidgets) (0.2.13)\n",
      "Requirement already satisfied: executing>=1.2.0 in c:\\users\\storm\\appdata\\local\\programs\\python\\python313\\lib\\site-packages (from stack_data->ipython>=6.1.0->ipywidgets) (2.2.0)\n",
      "Requirement already satisfied: asttokens>=2.1.0 in c:\\users\\storm\\appdata\\local\\programs\\python\\python313\\lib\\site-packages (from stack_data->ipython>=6.1.0->ipywidgets) (3.0.0)\n",
      "Requirement already satisfied: pure-eval in c:\\users\\storm\\appdata\\local\\programs\\python\\python313\\lib\\site-packages (from stack_data->ipython>=6.1.0->ipywidgets) (0.2.3)\n",
      "Note: you may need to restart the kernel to use updated packages.\n",
      "Requirement already satisfied: pandas in c:\\users\\storm\\appdata\\local\\programs\\python\\python313\\lib\\site-packages (2.2.3)\n",
      "Requirement already satisfied: numpy>=1.26.0 in c:\\users\\storm\\appdata\\local\\programs\\python\\python313\\lib\\site-packages (from pandas) (2.2.3)\n",
      "Requirement already satisfied: python-dateutil>=2.8.2 in c:\\users\\storm\\appdata\\local\\programs\\python\\python313\\lib\\site-packages (from pandas) (2.9.0.post0)\n",
      "Requirement already satisfied: pytz>=2020.1 in c:\\users\\storm\\appdata\\local\\programs\\python\\python313\\lib\\site-packages (from pandas) (2025.1)\n",
      "Requirement already satisfied: tzdata>=2022.7 in c:\\users\\storm\\appdata\\local\\programs\\python\\python313\\lib\\site-packages (from pandas) (2025.1)\n",
      "Requirement already satisfied: six>=1.5 in c:\\users\\storm\\appdata\\local\\programs\\python\\python313\\lib\\site-packages (from python-dateutil>=2.8.2->pandas) (1.17.0)\n",
      "Note: you may need to restart the kernel to use updated packages.\n"
     ]
    }
   ],
   "source": [
    "#install needed packages for panada and widgets\n",
    "%pip install ipywidgets\n",
    "%pip install pandas"
   ]
  },
  {
   "cell_type": "code",
   "execution_count": 15,
   "metadata": {
    "editable": false,
    "slideshow": {
     "slide_type": "slide"
    },
    "tags": []
   },
   "outputs": [],
   "source": [
    "import numpy as np # linear algebra\n",
    "import pandas as pd # data processing, CSV file I/O (e.g. pd.read_csv)\n",
    "import ipywidgets as widgets #widgets\n",
    "from ipywidgets import Button, HBox, VBox, Layout #layout\n",
    "from IPython.display import display #displays\n",
    "import matplotlib.pyplot as plt"
   ]
  },
  {
   "cell_type": "code",
   "execution_count": 16,
   "metadata": {
    "editable": false,
    "slideshow": {
     "slide_type": "slide"
    },
    "tags": []
   },
   "outputs": [],
   "source": [
    "df= pd.read_csv('netfix_cleaned.csv') #import csv file aka the data\n",
    "df.drop_duplicates(inplace=True)\n",
    "df.to_csv('netfix_cleaned.csv',index=False)\n",
    "#df # displays the DataFrame#Import TfIdfVectorizer from scikit-learn"
   ]
  },
  {
   "cell_type": "code",
   "execution_count": 17,
   "metadata": {
    "editable": false,
    "slideshow": {
     "slide_type": "slide"
    },
    "tags": []
   },
   "outputs": [],
   "source": [
    "def get_genre(movie_ind, g):\n",
    "    new_list=[]\n",
    "    for element in movie_ind:\n",
    "       if g in df['genre'][element]:\n",
    "           new_list.append(element)\n",
    "    return new_list"
   ]
  },
  {
   "cell_type": "code",
   "execution_count": 18,
   "metadata": {
    "editable": false,
    "slideshow": {
     "slide_type": "slide"
    },
    "tags": []
   },
   "outputs": [],
   "source": [
    "from sklearn.feature_extraction.text import TfidfVectorizer\n",
    "\n",
    "#removes all english stop words\n",
    "tfidf = TfidfVectorizer(stop_words='english')\n",
    "\n",
    "#creates matrix by fitting and transforming the data\n",
    "tfidf_matrix = tfidf.fit_transform(df['description'])\n",
    "\n",
    "#shape of tfidf_matrix\n",
    "tfidf_matrix.shape\n",
    "\n",
    "# Import linear_kernel\n",
    "from sklearn.metrics.pairwise import linear_kernel\n",
    "\n",
    "# cosine similarity matrix\n",
    "cosine_sim = linear_kernel(tfidf_matrix, tfidf_matrix)\n",
    "\n",
    "#reverse map of indices and movie titles\n",
    "indices = pd.Series(df.index, index=df['names']).drop_duplicates()\n",
    "\n",
    "#takes in movie title as input and outputs most similar movies\n",
    "def get_recommendations(title, genre, cosine_sim=cosine_sim):\n",
    "    # Get the index of the movie that matches the title\n",
    "    idx = indices[title]\n",
    "\n",
    "    # Get the pairwsie similarity scores of all movies with that movie\n",
    "    sim_scores = list(enumerate(cosine_sim[idx]))\n",
    "    #print(sim_scores)\n",
    "    key_func= lambda x: x[1]\n",
    "\n",
    "    # Sort the movies based on the similarity scores\n",
    "    sim_scores = sorted(sim_scores, key=key_func)#, reverse=True)\n",
    "\n",
    "    # Get the scores of the 30 most similar movies\n",
    "    sim_scores = sim_scores[1:30]\n",
    "\n",
    "    # Get the movie indices\n",
    "    movie_indices = [i[0] for i in sim_scores]\n",
    "    # Find what movies have the selected genre\n",
    "    movie_indices= get_genre(movie_indices, genre)\n",
    "    # Reduce list to the 5 most similar movies\n",
    "    movie_indices=movie_indices[1:5]\n",
    "    # Return the top 10 most similar movies\n",
    "    return df['names'].iloc[movie_indices]"
   ]
  },
  {
   "cell_type": "code",
   "execution_count": 19,
   "metadata": {
    "editable": false,
    "slideshow": {
     "slide_type": "slide"
    },
    "tags": []
   },
   "outputs": [],
   "source": [
    "genres= df['genre'].tolist() #takes genres from the csv and puts them in a list\n",
    "\n",
    "#takes list of genres from each movie and creates one list\n",
    "genre_options = []\n",
    "for inner_list in genres:\n",
    "    new_element=inner_list.split(\",\")\n",
    "    genre_options+=new_element\n",
    "\n",
    "#takes list of all genres just created and finds just the unique values\n",
    "unique_genre = []\n",
    "for element in genre_options:\n",
    "    if element not in unique_genre:\n",
    "        unique_genre.append(element.lstrip(' '))"
   ]
  },
  {
   "cell_type": "code",
   "execution_count": 20,
   "metadata": {
    "editable": false,
    "slideshow": {
     "slide_type": "slide"
    },
    "tags": []
   },
   "outputs": [],
   "source": [
    "#creates dropdown widget of the unique genres listed in the data\n",
    "genre_rb= widgets.Dropdown(\n",
    "    value='Spy',\n",
    "    options=unique_genre,\n",
    "    layout= Layout(align_items= 'center', width='250px', vertical_align= 'middle'),\n",
    "    disabled=False\n",
    ")\n",
    "# creates a list of movie titles\n",
    "names= df['names'].tolist()\n",
    "#combobox for movie titles, allows user to start typing a movie and select the title\n",
    "movie_cb= widgets.Combobox(\n",
    "    placeholder='Start typing for suggestions',\n",
    "    options= names,\n",
    "    description='Enter a movie name:',\n",
    "    ensure_option=True,\n",
    "    disabled=False,\n",
    "    layout= Layout(display='flex', flex_flow='column', align_items= 'center',\n",
    "                   width='250px', height='auto', \n",
    "                   padding= '10px', vertical_align= 'middle', border='hidden'),\n",
    "    style={'description_width': 'initial'})"
   ]
  },
  {
   "cell_type": "code",
   "execution_count": 21,
   "metadata": {
    "editable": false,
    "slideshow": {
     "slide_type": "slide"
    },
    "tags": []
   },
   "outputs": [],
   "source": [
    "#Label widgets for title of app and genre widget\n",
    "file = open(\"kadabra.png\", \"rb\")\n",
    "image = file.read()\n",
    "title= widgets.Image(value=image, format='png', width=275, height=450)\n",
    "\n",
    "title_genre= widgets.Label(value= 'Movie Genres', font_weight= 'bold',\n",
    "                           layout=Layout(display='flex', flex_flow='column', align_items= 'center', \n",
    "                                         height='auto', width='250px', padding= '5px', vertical_align= 'middle'), background_color='#7b88db')"
   ]
  },
  {
   "cell_type": "code",
   "execution_count": 22,
   "metadata": {
    "editable": false,
    "slideshow": {
     "slide_type": "slide"
    },
    "tags": []
   },
   "outputs": [],
   "source": [
    "# empty label to create space, better presentation\n",
    "empty_label_small= widgets.Label(value= '', font_weight= 'bold', layout=Layout(display='flex', flex_flow='column', align_items= 'center',\n",
    "                                                                         width='5px', height='auto', padding= '2px', vertical_align= 'middle'))\n",
    "\n",
    "empty_label_large= widgets.Label(value= '', font_weight= 'bold', layout=Layout(display='flex', flex_flow='column', align_items= 'center',\n",
    "                                                                         width='5px', height='auto', padding= '40px', vertical_align= 'middle'))\n",
    "#empty_title_box= widgets.Image(width=300, height=150)"
   ]
  },
  {
   "cell_type": "code",
   "execution_count": 23,
   "metadata": {
    "editable": false,
    "slideshow": {
     "slide_type": "slide"
    },
    "tags": []
   },
   "outputs": [],
   "source": [
    "# Function to handle the selection event\n",
    "def on_movie_change(change):\n",
    "    indices = pd.Series(df.index, index=df['names']).drop_duplicates()\n",
    "    \n",
    "    if change['type'] == 'change' and change['name'] == 'value':\n",
    "        idx = indices[change['new']]\n",
    "        summary.value= f\"\"\"{df['names'].iloc[idx]} \n",
    "{df['release_year'].iloc[idx]}   {df['maturity_rating'].iloc[idx]}   {df['duration'].iloc[idx]}\n",
    "\n",
    "{df['description'].iloc[idx]}\n",
    "\n",
    "Genre \n",
    "{df['genre'].iloc[idx]}\n",
    "\n",
    "Cast \n",
    "{df['cast'].iloc[idx]}\n",
    "\n",
    "Subtitles\n",
    "{df['subtitles'].iloc[idx]} \n",
    "\n",
    "Audio\n",
    "{df['audio'].iloc[idx]}\"\"\"\n",
    "        "
   ]
  },
  {
   "cell_type": "code",
   "execution_count": 24,
   "metadata": {
    "editable": false,
    "slideshow": {
     "slide_type": "slide"
    },
    "tags": []
   },
   "outputs": [],
   "source": [
    "style = {'description_width': 'initial'}\n",
    "s_movie=widgets.Text(value='', description='Selected Movie:',style=style, disabled=True)\n",
    "s_genre=widgets.Text(value='', description='Selected Genre:',style=style, disabled=True)\n",
    "out=widgets.Select(options=[], description='Movie Suggestions:',rows=5,style=style, disabled=False, background_color='pink')\n",
    "title_summary= widgets.Label(value= 'Movie Information', font_weight= 'bold',\n",
    "                             layout=Layout(display='flex', flex_flow='column', align_items= 'center',\n",
    "                                           height='auto', width='auto', padding= '1px', vertical_align= 'middle'))\n",
    "title_summary_select= widgets.Label(value= 'Select a Movie to Show More Information', font_weight= 'bold',\n",
    "                             layout=Layout(display='flex', flex_flow='column', align_items= 'center',\n",
    "                                           height='auto', width='auto', padding= '1px', vertical_align= 'middle'))\n",
    "summary=widgets.Textarea(value='', style=style, disabled=True, border='solid 2px', rows=10, height='auto', width='250px', padding= '5px')\n",
    "\n",
    "# Attach the event handler to the recommended movies\n",
    "out.observe(on_movie_change, names='value')"
   ]
  },
  {
   "cell_type": "code",
   "execution_count": 25,
   "metadata": {
    "editable": false,
    "slideshow": {
     "slide_type": "slide"
    },
    "tags": []
   },
   "outputs": [],
   "source": [
    "def update_button():\n",
    "    #values from dropdown and combobox are gathered\n",
    "    g= genre_rb.value\n",
    "    movie_selection=movie_cb.value\n",
    "    #uses movie selection to get movie recommendations\n",
    "    x= get_recommendations(movie_selection,g)\n",
    "    \n",
    "    #output\n",
    "    if len(x)==0:\n",
    "        out.options=['No movies match your search', 'Try Again!']        \n",
    "    else:\n",
    "        out.options= x\n",
    "    s_movie.value=movie_selection\n",
    "    s_genre.value=g"
   ]
  },
  {
   "cell_type": "code",
   "execution_count": 26,
   "metadata": {
    "editable": false,
    "slideshow": {
     "slide_type": "slide"
    },
    "tags": []
   },
   "outputs": [
    {
     "data": {
      "application/vnd.jupyter.widget-view+json": {
       "model_id": "0b21eeaec341487e92ea92fedfb227bd",
       "version_major": 2,
       "version_minor": 0
      },
      "text/plain": [
       "Box(children=(VBox(children=(Image(value=b'\\x89PNG\\r\\n\\x1a\\n\\x00\\x00\\x00\\rIHDR\\x00\\x00\\x01/\\x00\\x00\\x00\\xfa\\x0…"
      ]
     },
     "execution_count": 26,
     "metadata": {},
     "output_type": "execute_result"
    }
   ],
   "source": [
    "# button to run recommender\n",
    "button=widgets.Button(description='Find A Movie', border='solid 2px', height='auto', width='250px', padding= '5px')\n",
    "\n",
    "# action when button is presed\n",
    "def on_button_clicked(b):\n",
    "    update_button()\n",
    "\n",
    "button.on_click(on_button_clicked)# widget box for radio buttons\n",
    "\n",
    "# widget box for combo box and button\n",
    "left_box= widgets.VBox([title, s_movie, s_genre, out,title_summary_select])\n",
    "center_box= widgets.VBox([empty_label_small])\n",
    "right_box= widgets.VBox([movie_cb,empty_label_small,title_genre, genre_rb, \n",
    "                         empty_label_small, button, empty_label_small,empty_label_small, title_summary, summary])\n",
    "left_box.layout.align_items = 'center'\n",
    "right_box.layout.align_items = 'center'\n",
    "# widget box to hold other boxes\n",
    "widgets.Box([left_box, center_box,center_box,center_box, right_box])\n"
   ]
  },
  {
   "cell_type": "code",
   "execution_count": null,
   "metadata": {},
   "outputs": [],
   "source": []
  },
  {
   "cell_type": "code",
   "execution_count": null,
   "metadata": {},
   "outputs": [],
   "source": []
  },
  {
   "cell_type": "code",
   "execution_count": null,
   "metadata": {},
   "outputs": [],
   "source": []
  },
  {
   "cell_type": "raw",
   "metadata": {},
   "source": []
  }
 ],
 "metadata": {
  "kernelspec": {
   "display_name": "Python 3 (ipykernel)",
   "language": "python",
   "name": "python3"
  },
  "language_info": {
   "codemirror_mode": {
    "name": "ipython",
    "version": 3
   },
   "file_extension": ".py",
   "mimetype": "text/x-python",
   "name": "python",
   "nbconvert_exporter": "python",
   "pygments_lexer": "ipython3",
   "version": "3.13.2"
  },
  "toc": {
   "base_numbering": 3
  },
  "widgets": {
   "application/vnd.jupyter.widget-state+json": {
    "state": {},
    "version_major": 2,
    "version_minor": 0
   }
  }
 },
 "nbformat": 4,
 "nbformat_minor": 4
}
